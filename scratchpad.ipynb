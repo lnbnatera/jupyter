{
 "cells": [
  {
   "cell_type": "code",
   "execution_count": 1,
   "metadata": {},
   "outputs": [],
   "source": [
    "import json\n",
    "\n",
    "with open(\"package2.json\", \"r\") as f_in:\n",
    "    data = json.load(f_in)"
   ]
  },
  {
   "cell_type": "code",
   "execution_count": 2,
   "metadata": {},
   "outputs": [
    {
     "name": "stdout",
     "output_type": "stream",
     "text": [
      "{\n",
      "    \"Instance\": [\n",
      "        {\n",
      "            \"Component\": {\n",
      "                \"PRN\": \"87\"\n",
      "            },\n",
      "            \"Package\": [\n",
      "                {\n",
      "                    \"Name\": \"package1\",\n",
      "                    \"Version\": \"2.0\"\n",
      "                },\n",
      "                {\n",
      "                    \"Name\": \"package2\",\n",
      "                    \"Version\": \"4.0\"\n",
      "                },\n",
      "                {\n",
      "                    \"Name\": \"package4\",\n",
      "                    \"Version\": \"3.5\"\n",
      "                },\n",
      "                {\n",
      "                    \"Name\": \"package5\",\n",
      "                    \"Version\": \"2.0\"\n",
      "                }\n",
      "            ]\n",
      "        },\n",
      "        {\n",
      "            \"Component\": {\n",
      "                \"PRN\": \"88\"\n",
      "            },\n",
      "            \"Package\": [\n",
      "                {\n",
      "                    \"Name\": \"package1\",\n",
      "                    \"Version\": \"1.0\"\n",
      "                },\n",
      "                {\n",
      "                    \"Name\": \"package2\",\n",
      "                    \"Version\": \"3.0\"\n",
      "                },\n",
      "                {\n",
      "                    \"Name\": \"package3\",\n",
      "                    \"Version\": \"2.0\"\n",
      "                },\n",
      "                {\n",
      "                    \"Name\": \"package5\",\n",
      "                    \"Version\": \"2.0\"\n",
      "                }\n",
      "            ]\n",
      "        }\n",
      "    ]\n",
      "}\n"
     ]
    }
   ],
   "source": [
    "print(json.dumps(data, indent=4))"
   ]
  },
  {
   "cell_type": "code",
   "execution_count": 3,
   "metadata": {},
   "outputs": [],
   "source": [
    "if data['Instance'][0]['Component']['PRN'] > data['Instance'][1]['Component']['PRN']:\n",
    "    new = 0\n",
    "    old = 1\n",
    "else:\n",
    "    new = 1\n",
    "    old = 0"
   ]
  },
  {
   "cell_type": "code",
   "execution_count": 4,
   "metadata": {},
   "outputs": [
    {
     "name": "stdout",
     "output_type": "stream",
     "text": [
      "{\n",
      "    \"package1\": {\n",
      "        \"old_version\": \"1.0\",\n",
      "        \"new_version\": \"2.0\",\n",
      "        \"status\": \"UPDATED\"\n",
      "    },\n",
      "    \"package2\": {\n",
      "        \"old_version\": \"3.0\",\n",
      "        \"new_version\": \"4.0\",\n",
      "        \"status\": \"UPDATED\"\n",
      "    },\n",
      "    \"package3\": {\n",
      "        \"old_version\": \"2.0\",\n",
      "        \"new_version\": null,\n",
      "        \"status\": \"REMOVED\"\n",
      "    },\n",
      "    \"package5\": {\n",
      "        \"old_version\": \"2.0\",\n",
      "        \"new_version\": \"2.0\",\n",
      "        \"status\": \"UNCHANGED\"\n",
      "    },\n",
      "    \"package4\": {\n",
      "        \"old_version\": null,\n",
      "        \"new_version\": \"3.5\",\n",
      "        \"status\": \"NEW\"\n",
      "    }\n",
      "}\n"
     ]
    }
   ],
   "source": [
    "combined_dict = {}\n",
    "\n",
    "for i1, v1 in enumerate(data['Instance'][new]['Package']):\n",
    "    if v1:\n",
    "        #print(\"%s - %s\" % (v1['Name'], v1['Version']))\n",
    "        combined_dict[v1['Name']] = {'old_version': v1['Version'] }\n",
    "        data['Instance'][new]['Package'][i1] = {}\n",
    "    for i2, v2 in enumerate(data['Instance'][old]['Package']):\n",
    "        if v2 and v1['Name'] == v2['Name']:\n",
    "            #print(\"  %s - %s\" % (v2['Name'], v2['Version']))\n",
    "            combined_dict[v2['Name']]['new_version'] = v2['Version']\n",
    "            data['Instance'][old]['Package'][i2] = {}\n",
    "    if 'new_version' not in combined_dict[v1['Name']]:\n",
    "        combined_dict[v1['Name']]['new_version'] = None\n",
    "        combined_dict[v1['Name']]['status'] = \"REMOVED\"\n",
    "    elif combined_dict[v1['Name']]['new_version'] != combined_dict[v1['Name']]['old_version']:\n",
    "        combined_dict[v1['Name']]['status'] = \"UPDATED\"\n",
    "    elif combined_dict[v1['Name']]['new_version'] == combined_dict[v1['Name']]['old_version']:\n",
    "        combined_dict[v1['Name']]['status'] = \"UNCHANGED\"\n",
    "    \n",
    "for i1, v1 in enumerate(data['Instance'][old]['Package']):\n",
    "    if v1:\n",
    "        #print(\"  %s - %s\" % (v1['Name'], v1['Version']))\n",
    "        combined_dict[v1['Name']] = {'old_version': None}\n",
    "        combined_dict[v1['Name']]['new_version'] = v1['Version']\n",
    "        combined_dict[v1['Name']]['status'] = \"NEW\"\n",
    "\n",
    "    \n",
    "print(json.dumps(combined_dict, indent=4))"
   ]
  }
 ],
 "metadata": {
  "kernelspec": {
   "display_name": "Python 3",
   "language": "python",
   "name": "python3"
  },
  "language_info": {
   "codemirror_mode": {
    "name": "ipython",
    "version": 3
   },
   "file_extension": ".py",
   "mimetype": "text/x-python",
   "name": "python",
   "nbconvert_exporter": "python",
   "pygments_lexer": "ipython3",
   "version": "3.7.2"
  }
 },
 "nbformat": 4,
 "nbformat_minor": 2
}
